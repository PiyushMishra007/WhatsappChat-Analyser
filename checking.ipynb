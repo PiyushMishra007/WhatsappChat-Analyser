{
 "cells": [
  {
   "cell_type": "code",
   "execution_count": 22,
   "id": "9c1963ff",
   "metadata": {},
   "outputs": [],
   "source": [
    "import re\n",
    "import pandas as pd"
   ]
  },
  {
   "cell_type": "code",
   "execution_count": 23,
   "id": "ab62d37f",
   "metadata": {},
   "outputs": [],
   "source": [
    "f=open(\"WhatsApp Chat 24hr format.txt\",\"r\",encoding=\"utf-8\")\n",
    "data=f.read()"
   ]
  },
  {
   "cell_type": "code",
   "execution_count": 24,
   "id": "ee035912",
   "metadata": {},
   "outputs": [],
   "source": [
    "#pattern='\\d{1,2}/\\d{1,2}/\\d{2,4},\\s\\d{1,2}:\\d{2}\\s[ap]{1}m\\s-\\s'\n",
    "pattern = '\\d{1,2}/\\d{1,2}/\\d{2,4},\\s\\d{1,2}:\\d{2}\\s-\\s'"
   ]
  },
  {
   "cell_type": "code",
   "execution_count": 25,
   "id": "e397f279",
   "metadata": {},
   "outputs": [
    {
     "name": "stdout",
     "output_type": "stream",
     "text": [
      "True 09/12/20, 12:49 - \n"
     ]
    }
   ],
   "source": [
    "match = re.match(pattern, data)\n",
    "#If-statement after search() tests if it succeeded\n",
    "if match:\n",
    "   print(True,match.group())\n",
    "else:\n",
    "   print(False)"
   ]
  },
  {
   "cell_type": "code",
   "execution_count": 32,
   "id": "1f2878df",
   "metadata": {},
   "outputs": [
    {
     "name": "stdout",
     "output_type": "stream",
     "text": [
      "                                        user_message        message_date\n",
      "0  Messages and calls are end-to-end encrypted. N... 2020-12-09 12:49:00\n",
      "1  UAV: https://meetingsapac41.webex.com/meet/pr1... 2020-12-10 11:43:00\n",
      "2  +91 76968 56804: Hey folks 👐\\n\\nProgramming Cl... 2020-12-11 16:02:00\n",
      "3                              +91 95963 81714: 😂😂\\n 2020-12-12 23:42:00\n",
      "4                 +91 89302 20242: <Media omitted>\\n 2020-12-14 17:21:00\n"
     ]
    }
   ],
   "source": [
    "pattern='\\d{1,2}/\\d{1,2}/\\d{2,4},\\s\\d{1,2}:\\d{2}\\s[ap]{1}m\\s-\\s'\n",
    "match = re.match(pattern, data)\n",
    "    #If-statement after search() tests if it succeeded\n",
    "if match:\n",
    "       #print(True)\n",
    "       # 12 hr format\n",
    "       message=re.split(pattern,data)[1:]\n",
    "       dates=re.findall(pattern,data)\n",
    "       #converting 12 hrs to 24 hrs\n",
    "       #df['Time'] = pd.to_datetime(df['Time'], format='%I:%M:%S %p').dt.strftime('%H:%M:%S')\n",
    "       df = pd.DataFrame({'user_message': message, 'message_date': dates})\n",
    "       #df['message_date'] = pd.to_datetime(df['message_date'], format='%d/%m/%y, %I:%M %p - ').dt.strftime('%d-%m-%Y %H:%M')\n",
    "       # df['message_date'] = pd.to_datetime(df['message_date'], format='%d-%m-%Y %H:%M')\n",
    "       df['message_date'] = pd.to_datetime(df['message_date'], format='%d/%m/%y, %I:%M %p - ')\n",
    "       df.rename(columns={'message_date': 'date'}, inplace=True)\n",
    "       df.head()\n",
    "else:\n",
    "        pattern = '\\d{1,2}/\\d{1,2}/\\d{2,4},\\s\\d{1,2}:\\d{2}\\s-\\s'\n",
    "        messages = re.split(pattern, data)[1:]\n",
    "        dates = re.findall(pattern, data)\n",
    "        #print(df)\n",
    "        #print(\"inside else\")\n",
    "        #df = pd.DataFrame({'user_message': messages, 'message_date': dates})\n",
    "        # convert message_date type\n",
    "        df['message_date'] = pd.to_datetime(df['message_date'], format='%d/%m/%y, %H:%M - ')\n",
    "#         df.rename(columns={'message_date': 'date'}, inplace=True)\n",
    "        print(df.head())"
   ]
  },
  {
   "cell_type": "code",
   "execution_count": null,
   "id": "7882cdf5",
   "metadata": {},
   "outputs": [],
   "source": []
  }
 ],
 "metadata": {
  "kernelspec": {
   "display_name": "Python 3 (ipykernel)",
   "language": "python",
   "name": "python3"
  },
  "language_info": {
   "codemirror_mode": {
    "name": "ipython",
    "version": 3
   },
   "file_extension": ".py",
   "mimetype": "text/x-python",
   "name": "python",
   "nbconvert_exporter": "python",
   "pygments_lexer": "ipython3",
   "version": "3.10.7"
  }
 },
 "nbformat": 4,
 "nbformat_minor": 5
}
